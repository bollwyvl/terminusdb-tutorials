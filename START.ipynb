{
 "cells": [
  {
   "cell_type": "markdown",
   "metadata": {},
   "source": [
    "# terminusdb Binder Notebook Examples"
   ]
  },
  {
   "cell_type": "markdown",
   "metadata": {},
   "source": [
    "## Start terminusdb **DO THIS FIRST**\n",
    "\n",
    "- Open a JupyterLab _Terminal_ (there should be one open for you)\n",
    "- Run `start_binder_terminusdb.sh`"
   ]
  },
  {
   "cell_type": "markdown",
   "metadata": {},
   "source": [
    "## Open an Example"
   ]
  },
  {
   "cell_type": "markdown",
   "metadata": {},
   "source": [
    "| example                                                                                                                                |\n",
    "|:------------------------------------------------------------------------------------------------------------------------------------|\n",
    "| [taking_terminus_to_the_bank.ipynb](bank-tutorial/taking_terminus_to_the_bank.ipynb)                                                |\n",
    "| [Create TerminusDB Graph with Python Client.ipynb](bike-tutorial/python/Create%20TerminusDB%20Graph%20with%20Python%20Client.ipynb) |\n",
    "| [episode2.ipynb](episode-2/episode2.ipynb)                                                                                          |\n",
    "| [Movie Data.ipynb](movies-data/Movie%20Data.ipynb)                                                                                  |\n",
    "| [loading_spacy.ipynb](nlp-spacy/loading_spacy.ipynb)                                                                                |\n",
    "| [querying_graph.ipynb](nlp-spacy/querying_graph.ipynb)                                                                              |\n",
    "| [simplify_tutorial.ipynb](nlp-spacy/simplify_tutorial.ipynb)                                                                        |"
   ]
  }
 ],
 "metadata": {
  "kernelspec": {
   "display_name": "Python 3",
   "language": "python",
   "name": "python3"
  },
  "language_info": {
   "codemirror_mode": {
    "name": "ipython",
    "version": 3
   },
   "file_extension": ".py",
   "mimetype": "text/x-python",
   "name": "python",
   "nbconvert_exporter": "python",
   "pygments_lexer": "ipython3",
   "version": "3.8.6"
  }
 },
 "nbformat": 4,
 "nbformat_minor": 4
}
